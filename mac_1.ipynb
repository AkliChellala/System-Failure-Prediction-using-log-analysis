{
 "cells": [
  {
   "cell_type": "code",
   "execution_count": 1,
   "metadata": {},
   "outputs": [
    {
     "name": "stderr",
     "output_type": "stream",
     "text": [
      "Using TensorFlow backend.\n"
     ]
    }
   ],
   "source": [
    "import numpy as np\n",
    "import pandas as pd\n",
    "import matplotlib.pyplot as plt\n",
    "from keras.layers.core import Dense, Activation, Dropout\n",
    "from keras.layers.recurrent import LSTM\n",
    "from keras.models import Sequential\n",
    "import time\n",
    "from sklearn.metrics import mean_squared_error\n",
    "from matplotlib import pyplot\n",
    "from sklearn.preprocessing import MinMaxScaler\n",
    "from sklearn.preprocessing import StandardScaler            #importing all necessary libraries\n"
   ]
  },
  {
   "cell_type": "code",
   "execution_count": null,
   "metadata": {},
   "outputs": [],
   "source": []
  },
  {
   "cell_type": "code",
   "execution_count": 2,
   "metadata": {},
   "outputs": [],
   "source": [
    "df=pd.read_csv('mac_1.csv')"
   ]
  },
  {
   "cell_type": "code",
   "execution_count": null,
   "metadata": {},
   "outputs": [],
   "source": []
  },
  {
   "cell_type": "code",
   "execution_count": 3,
   "metadata": {},
   "outputs": [],
   "source": [
    "series=pd.DataFrame(df.x)                 #storing all the PCA reduced values in series\n"
   ]
  },
  {
   "cell_type": "code",
   "execution_count": 4,
   "metadata": {},
   "outputs": [],
   "source": [
    "\n",
    "scaler = MinMaxScaler(feature_range=(-1, 1))\n",
    "scaled = scaler.fit_transform(series.values)                      #normalize features\n",
    "series = pd.DataFrame(scaled)"
   ]
  },
  {
   "cell_type": "code",
   "execution_count": 5,
   "metadata": {},
   "outputs": [],
   "source": [
    "window_size = 50                          #moving window size to be 50\n",
    "\n",
    "series_s = series.copy()\n",
    "for i in range(window_size):\n",
    "    series = pd.concat([series, series_s.shift(-(i+1))], axis = 1)      #shifting the entire column up by 1\n",
    "series.dropna(axis=0, inplace=True)\n",
    "\n"
   ]
  },
  {
   "cell_type": "code",
   "execution_count": null,
   "metadata": {},
   "outputs": [],
   "source": []
  },
  {
   "cell_type": "code",
   "execution_count": 6,
   "metadata": {},
   "outputs": [],
   "source": [
    "nrow = round(0.75*series.shape[0])                 #storing 75% of total data size in nrow\n"
   ]
  },
  {
   "cell_type": "code",
   "execution_count": 7,
   "metadata": {},
   "outputs": [],
   "source": [
    "train = series.iloc[:nrow, :]\n",
    "test = series.iloc[nrow:,:]                        #dividing into train and test,75% for training"
   ]
  },
  {
   "cell_type": "code",
   "execution_count": 8,
   "metadata": {},
   "outputs": [],
   "source": [
    "from sklearn.utils import shuffle\n",
    "train = shuffle(train)                             \n"
   ]
  },
  {
   "cell_type": "code",
   "execution_count": 9,
   "metadata": {},
   "outputs": [],
   "source": [
    "train_X = train.iloc[:,:-1]\n",
    "train_y = train.iloc[:,-1]\n",
    "test_X = test.iloc[:,:-1]\n",
    "test_y = test.iloc[:,-1]"
   ]
  },
  {
   "cell_type": "code",
   "execution_count": 10,
   "metadata": {},
   "outputs": [],
   "source": [
    "\n",
    "train_X = train_X.values\n",
    "train_y = train_y.values\n",
    "test_X = test_X.values                            #storing the values in particular indices\n",
    "test_y = test_y.values\n"
   ]
  },
  {
   "cell_type": "code",
   "execution_count": null,
   "metadata": {},
   "outputs": [],
   "source": []
  },
  {
   "cell_type": "code",
   "execution_count": 11,
   "metadata": {},
   "outputs": [],
   "source": [
    "train_X = train_X.reshape(train_X.shape[0],train_X.shape[1],1)         #reshape to necessary format\n",
    "test_X = test_X.reshape(test_X.shape[0],test_X.shape[1],1)     "
   ]
  },
  {
   "cell_type": "code",
   "execution_count": null,
   "metadata": {},
   "outputs": [],
   "source": []
  },
  {
   "cell_type": "code",
   "execution_count": 12,
   "metadata": {},
   "outputs": [
    {
     "name": "stderr",
     "output_type": "stream",
     "text": [
      "/home/animesh/.local/lib/python3.5/site-packages/ipykernel_launcher.py:2: UserWarning: Update your `LSTM` call to the Keras 2 API: `LSTM(return_sequences=True, input_shape=(50, 1), units=50)`\n",
      "  \n"
     ]
    },
    {
     "name": "stdout",
     "output_type": "stream",
     "text": [
      "_________________________________________________________________\n",
      "Layer (type)                 Output Shape              Param #   \n",
      "=================================================================\n",
      "lstm_1 (LSTM)                (None, 50, 50)            10400     \n",
      "_________________________________________________________________\n",
      "dropout_1 (Dropout)          (None, 50, 50)            0         \n",
      "_________________________________________________________________\n",
      "lstm_2 (LSTM)                (None, 256)               314368    \n",
      "_________________________________________________________________\n",
      "dropout_2 (Dropout)          (None, 256)               0         \n",
      "_________________________________________________________________\n",
      "dense_1 (Dense)              (None, 1)                 257       \n",
      "_________________________________________________________________\n",
      "activation_1 (Activation)    (None, 1)                 0         \n",
      "=================================================================\n",
      "Total params: 325,025\n",
      "Trainable params: 325,025\n",
      "Non-trainable params: 0\n",
      "_________________________________________________________________\n"
     ]
    }
   ],
   "source": [
    "model = Sequential()\n",
    "model.add(LSTM(input_shape = (50,1), output_dim= 50, return_sequences = True))   # 50 time steps to go through each PCA vector in the sentence as an input to the LSTM at each time step\n",
    "model.add(Dropout(0.5))\n",
    "model.add(LSTM(256))\n",
    "model.add(Dropout(0.5))                               \n",
    "model.add(Dense(1))\n",
    "model.add(Activation(\"linear\"))\n",
    "model.compile(loss=\"mse\", optimizer=\"adam\")\n",
    "np.random.seed(7)\n",
    "\n",
    "model.summary()                               #linear activaion with adam optimization and a dense layer added\n"
   ]
  },
  {
   "cell_type": "code",
   "execution_count": null,
   "metadata": {},
   "outputs": [],
   "source": []
  },
  {
   "cell_type": "code",
   "execution_count": null,
   "metadata": {},
   "outputs": [],
   "source": []
  },
  {
   "cell_type": "code",
   "execution_count": null,
   "metadata": {},
   "outputs": [],
   "source": []
  },
  {
   "cell_type": "code",
   "execution_count": null,
   "metadata": {},
   "outputs": [],
   "source": []
  },
  {
   "cell_type": "code",
   "execution_count": null,
   "metadata": {},
   "outputs": [],
   "source": []
  },
  {
   "cell_type": "code",
   "execution_count": 13,
   "metadata": {},
   "outputs": [
    {
     "name": "stderr",
     "output_type": "stream",
     "text": [
      "/home/animesh/.local/lib/python3.5/site-packages/ipykernel_launcher.py:2: UserWarning: The `nb_epoch` argument in `fit` has been renamed `epochs`.\n",
      "  \n"
     ]
    },
    {
     "name": "stdout",
     "output_type": "stream",
     "text": [
      "Train on 322 samples, validate on 36 samples\n",
      "Epoch 1/50\n",
      "322/322 [==============================] - 3s 10ms/step - loss: 0.0379 - val_loss: 0.0108\n",
      "Epoch 2/50\n",
      "322/322 [==============================] - 2s 6ms/step - loss: 0.0137 - val_loss: 0.0080\n",
      "Epoch 3/50\n",
      "322/322 [==============================] - 2s 7ms/step - loss: 0.0094 - val_loss: 0.0083\n",
      "Epoch 4/50\n",
      "322/322 [==============================] - 2s 7ms/step - loss: 0.0086 - val_loss: 0.0078\n",
      "Epoch 5/50\n",
      "322/322 [==============================] - 2s 7ms/step - loss: 0.0083 - val_loss: 0.0075\n",
      "Epoch 6/50\n",
      "322/322 [==============================] - 2s 6ms/step - loss: 0.0084 - val_loss: 0.0064\n",
      "Epoch 7/50\n",
      "322/322 [==============================] - 2s 6ms/step - loss: 0.0081 - val_loss: 0.0063\n",
      "Epoch 8/50\n",
      "322/322 [==============================] - 2s 6ms/step - loss: 0.0078 - val_loss: 0.0061\n",
      "Epoch 9/50\n",
      "322/322 [==============================] - 2s 7ms/step - loss: 0.0078 - val_loss: 0.0063\n",
      "Epoch 10/50\n",
      "322/322 [==============================] - 2s 6ms/step - loss: 0.0083 - val_loss: 0.0061\n",
      "Epoch 11/50\n",
      "322/322 [==============================] - 2s 8ms/step - loss: 0.0075 - val_loss: 0.0058\n",
      "Epoch 12/50\n",
      "322/322 [==============================] - 2s 7ms/step - loss: 0.0071 - val_loss: 0.0066\n",
      "Epoch 13/50\n",
      "322/322 [==============================] - 2s 6ms/step - loss: 0.0090 - val_loss: 0.0059\n",
      "Epoch 14/50\n",
      "322/322 [==============================] - 2s 7ms/step - loss: 0.0070 - val_loss: 0.0061\n",
      "Epoch 15/50\n",
      "322/322 [==============================] - 2s 6ms/step - loss: 0.0077 - val_loss: 0.0059\n",
      "Epoch 16/50\n",
      "322/322 [==============================] - 2s 7ms/step - loss: 0.0085 - val_loss: 0.0059\n",
      "Epoch 17/50\n",
      "322/322 [==============================] - 2s 6ms/step - loss: 0.0069 - val_loss: 0.0066\n",
      "Epoch 18/50\n",
      "322/322 [==============================] - 2s 7ms/step - loss: 0.0082 - val_loss: 0.0056\n",
      "Epoch 19/50\n",
      "322/322 [==============================] - 2s 7ms/step - loss: 0.0089 - val_loss: 0.0058\n",
      "Epoch 20/50\n",
      "322/322 [==============================] - 2s 7ms/step - loss: 0.0070 - val_loss: 0.0115\n",
      "Epoch 21/50\n",
      "322/322 [==============================] - 3s 8ms/step - loss: 0.0122 - val_loss: 0.0096\n",
      "Epoch 22/50\n",
      "322/322 [==============================] - 2s 7ms/step - loss: 0.0074 - val_loss: 0.0065\n",
      "Epoch 23/50\n",
      "322/322 [==============================] - 2s 7ms/step - loss: 0.0077 - val_loss: 0.0063\n",
      "Epoch 24/50\n",
      "322/322 [==============================] - 2s 6ms/step - loss: 0.0071 - val_loss: 0.0056\n",
      "Epoch 25/50\n",
      "322/322 [==============================] - 2s 7ms/step - loss: 0.0079 - val_loss: 0.0057\n",
      "Epoch 26/50\n",
      "322/322 [==============================] - 2s 7ms/step - loss: 0.0082 - val_loss: 0.0073\n",
      "Epoch 27/50\n",
      "322/322 [==============================] - 2s 6ms/step - loss: 0.0070 - val_loss: 0.0054\n",
      "Epoch 28/50\n",
      "322/322 [==============================] - 2s 6ms/step - loss: 0.0060 - val_loss: 0.0053\n",
      "Epoch 29/50\n",
      "322/322 [==============================] - 2s 6ms/step - loss: 0.0067 - val_loss: 0.0053\n",
      "Epoch 30/50\n",
      "322/322 [==============================] - 2s 6ms/step - loss: 0.0069 - val_loss: 0.0052\n",
      "Epoch 31/50\n",
      "322/322 [==============================] - 2s 7ms/step - loss: 0.0072 - val_loss: 0.0065\n",
      "Epoch 32/50\n",
      "322/322 [==============================] - 2s 7ms/step - loss: 0.0070 - val_loss: 0.0052\n",
      "Epoch 33/50\n",
      "322/322 [==============================] - 2s 6ms/step - loss: 0.0079 - val_loss: 0.0052\n",
      "Epoch 34/50\n",
      "322/322 [==============================] - 2s 7ms/step - loss: 0.0068 - val_loss: 0.0055\n",
      "Epoch 35/50\n",
      "322/322 [==============================] - 2s 7ms/step - loss: 0.0058 - val_loss: 0.0051\n",
      "Epoch 36/50\n",
      "322/322 [==============================] - 2s 6ms/step - loss: 0.0065 - val_loss: 0.0051\n",
      "Epoch 37/50\n",
      "322/322 [==============================] - 2s 7ms/step - loss: 0.0060 - val_loss: 0.0050\n",
      "Epoch 38/50\n",
      "322/322 [==============================] - 3s 8ms/step - loss: 0.0060 - val_loss: 0.0051\n",
      "Epoch 39/50\n",
      "322/322 [==============================] - 2s 7ms/step - loss: 0.0065 - val_loss: 0.0049\n",
      "Epoch 40/50\n",
      "322/322 [==============================] - 2s 6ms/step - loss: 0.0069 - val_loss: 0.0049\n",
      "Epoch 41/50\n",
      "322/322 [==============================] - 2s 7ms/step - loss: 0.0060 - val_loss: 0.0050\n",
      "Epoch 42/50\n",
      "322/322 [==============================] - 2s 6ms/step - loss: 0.0066 - val_loss: 0.0050\n",
      "Epoch 43/50\n",
      "322/322 [==============================] - 2s 7ms/step - loss: 0.0065 - val_loss: 0.0050\n",
      "Epoch 44/50\n",
      "322/322 [==============================] - 2s 6ms/step - loss: 0.0064 - val_loss: 0.0063\n",
      "Epoch 45/50\n",
      "322/322 [==============================] - 2s 6ms/step - loss: 0.0072 - val_loss: 0.0049\n",
      "Epoch 46/50\n",
      "322/322 [==============================] - 2s 7ms/step - loss: 0.0060 - val_loss: 0.0050\n",
      "Epoch 47/50\n",
      "322/322 [==============================] - 2s 6ms/step - loss: 0.0062 - val_loss: 0.0054\n",
      "Epoch 48/50\n",
      "322/322 [==============================] - 2s 7ms/step - loss: 0.0055 - val_loss: 0.0055\n",
      "Epoch 49/50\n",
      "322/322 [==============================] - 2s 6ms/step - loss: 0.0057 - val_loss: 0.0057\n",
      "Epoch 50/50\n",
      "322/322 [==============================] - 2s 7ms/step - loss: 0.0061 - val_loss: 0.0055\n",
      "> Compilation Time :  108.7343761920929\n"
     ]
    }
   ],
   "source": [
    "start = time.time()\n",
    "model.fit(train_X,train_y,batch_size=20,nb_epoch=50,validation_split=0.1)\n",
    "np.random.seed(7)\n",
    "\n",
    "print(\"> Compilation Time : \", time.time() - start)\n"
   ]
  },
  {
   "cell_type": "code",
   "execution_count": 14,
   "metadata": {},
   "outputs": [
    {
     "name": "stdout",
     "output_type": "stream",
     "text": [
      "Saved model to disk\n"
     ]
    }
   ],
   "source": [
    "from keras.models import model_from_yaml\n",
    "\n",
    "model_yaml = model.to_yaml()\n",
    "with open(\"model1.yaml\", \"w\") as yaml_file:\n",
    "    yaml_file.write(model_yaml)\n",
    "# serialize weights to HDF5\n",
    "model.save_weights(\"model1.h5\")\n",
    "print(\"Saved model to disk\")\n",
    " "
   ]
  },
  {
   "cell_type": "code",
   "execution_count": 14,
   "metadata": {},
   "outputs": [],
   "source": [
    "preds = model.predict(test_X) # Doing a prediction on all the test data at once\n",
    "\n",
    "\n",
    "\n"
   ]
  },
  {
   "cell_type": "code",
   "execution_count": 15,
   "metadata": {},
   "outputs": [],
   "source": [
    "test_y=test_y.reshape(120,1)"
   ]
  },
  {
   "cell_type": "code",
   "execution_count": null,
   "metadata": {},
   "outputs": [],
   "source": []
  },
  {
   "cell_type": "code",
   "execution_count": null,
   "metadata": {},
   "outputs": [],
   "source": []
  },
  {
   "cell_type": "code",
   "execution_count": 16,
   "metadata": {},
   "outputs": [],
   "source": [
    "actuals = scaler.inverse_transform(test_y)\n",
    "\n",
    "preds1=scaler.inverse_transform(preds)              #convert normalized values to their original form\n"
   ]
  },
  {
   "cell_type": "code",
   "execution_count": null,
   "metadata": {},
   "outputs": [],
   "source": []
  },
  {
   "cell_type": "code",
   "execution_count": null,
   "metadata": {},
   "outputs": [],
   "source": []
  },
  {
   "cell_type": "code",
   "execution_count": 17,
   "metadata": {},
   "outputs": [
    {
     "data": {
      "text/plain": [
       "0.04586904543548906"
      ]
     },
     "execution_count": 17,
     "metadata": {},
     "output_type": "execute_result"
    }
   ],
   "source": [
    "mean_squared_error(test_y,preds)                 #mean squared error for normalized values\n"
   ]
  },
  {
   "cell_type": "code",
   "execution_count": 18,
   "metadata": {},
   "outputs": [
    {
     "data": {
      "text/plain": [
       "136699.55568505157"
      ]
     },
     "execution_count": 18,
     "metadata": {},
     "output_type": "execute_result"
    }
   ],
   "source": [
    "mean_squared_error(actuals,preds1)               #mean squared error for actual values\n"
   ]
  },
  {
   "cell_type": "code",
   "execution_count": 19,
   "metadata": {},
   "outputs": [
    {
     "data": {
      "image/png": "[encoded data removed]",
      "text/plain": [
       "<Figure size 432x288 with 1 Axes>"
      ]
     },
     "metadata": {},
     "output_type": "display_data"
    }
   ],
   "source": [
    "pyplot.plot(actuals,color='green',label='Actual values')  #actual\n",
    "pyplot.plot(preds1,color='blue',label='Predicted values')    #prediction\n",
    "pyplot.legend(loc='lower left')\n",
    " \n",
    "plt.title('Machine1')\n",
    "plt.xlabel('Time')\n",
    "plt.ylabel('Values')\n",
    "plt.savefig('Machine1full.png')\n",
    "\n",
    "pyplot.show()"
   ]
  },
  {
   "cell_type": "code",
   "execution_count": 20,
   "metadata": {},
   "outputs": [],
   "source": [
    "#showing the predicted values for even indexed timestamps\n",
    "time=pd.DataFrame(df.CPU1YBLPVDAKDLWAPP1)"
   ]
  },
  {
   "cell_type": "code",
   "execution_count": 21,
   "metadata": {},
   "outputs": [],
   "source": [
    "li=time[408:529]\n",
    "li1=[]\n",
    "for i in range(60):\n",
    "    li1.append(i)\n",
    "x=np.array(li1)\n"
   ]
  },
  {
   "cell_type": "code",
   "execution_count": 22,
   "metadata": {},
   "outputs": [],
   "source": [
    "z=li.CPU1YBLPVDAKDLWAPP1.tolist()\n",
    "z1=np.array(z)\n",
    "z1=z1[1::2]\n"
   ]
  },
  {
   "cell_type": "code",
   "execution_count": null,
   "metadata": {},
   "outputs": [],
   "source": []
  },
  {
   "cell_type": "code",
   "execution_count": 23,
   "metadata": {},
   "outputs": [],
   "source": [
    "act=actuals[1::2]"
   ]
  },
  {
   "cell_type": "code",
   "execution_count": 24,
   "metadata": {},
   "outputs": [],
   "source": [
    "pre=preds1[1::2]"
   ]
  },
  {
   "cell_type": "code",
   "execution_count": 25,
   "metadata": {},
   "outputs": [
    {
     "data": {
      "image/png": "[encoded data removed]",
      "text/plain": [
       "<Figure size 1296x864 with 1 Axes>"
      ]
     },
     "metadata": {},
     "output_type": "display_data"
    }
   ],
   "source": [
    "\n",
    "plt.figure(figsize=(18,12))\n",
    "plt.xticks( x,z1,rotation='vertical')\n",
    "pyplot.plot(x,act,color='green',label='Actual values')  #actual\n",
    "pyplot.plot(x,pre,color='blue',label='Predicted values')    #prediction\n",
    "pyplot.legend(loc='upper left')\n",
    "\n",
    "plt.title('Machine1')\n",
    "plt.xlabel('Time')\n",
    "plt.ylabel('Values')\n",
    "\n",
    "\n",
    "plt.savefig('Machine1even.png')\n",
    "plt.show()\n"
   ]
  },
  {
   "cell_type": "code",
   "execution_count": null,
   "metadata": {},
   "outputs": [],
   "source": []
  },
  {
   "cell_type": "code",
   "execution_count": null,
   "metadata": {},
   "outputs": [],
   "source": []
  }
 ],
 "metadata": {
  "kernelspec": {
   "display_name": "Python 3",
   "language": "python",
   "name": "python3"
  },
  "language_info": {
   "codemirror_mode": {
    "name": "ipython",
    "version": 3
   },
   "file_extension": ".py",
   "mimetype": "text/x-python",
   "name": "python",
   "nbconvert_exporter": "python",
   "pygments_lexer": "ipython3",
   "version": "3.5.2"
  },
  "varInspector": {
   "cols": {
    "lenName": 16,
    "lenType": 16,
    "lenVar": 40
   },
   "kernels_config": {
    "python": {
     "delete_cmd_postfix": "",
     "delete_cmd_prefix": "del ",
     "library": "var_list.py",
     "varRefreshCmd": "print(var_dic_list())"
    },
    "r": {
     "delete_cmd_postfix": ") ",
     "delete_cmd_prefix": "rm(",
     "library": "var_list.r",
     "varRefreshCmd": "cat(var_dic_list()) "
    }
   },
   "types_to_exclude": [
    "module",
    "function",
    "builtin_function_or_method",
    "instance",
    "_Feature"
   ],
   "window_display": false
  }
 },
 "nbformat": 4,
 "nbformat_minor": 2
}
